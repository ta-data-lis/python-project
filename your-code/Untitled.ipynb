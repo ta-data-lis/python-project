{
 "cells": [
  {
   "cell_type": "code",
   "execution_count": 2,
   "id": "11c41d29",
   "metadata": {},
   "outputs": [],
   "source": [
    "from time import sleep\n",
    "import pygame as py\n",
    "\n",
    "def tocar_mp3(caminho):\n",
    "    \n",
    "    py.init()\n",
    "    py.mixer.init()\n",
    "    py.mixer.music.load(caminho)\n",
    "    py.mixer.music.play()\n",
    "    \n",
    "    # Pausar o programa por 1 minuto\n",
    "    sleep(10)\n",
    "\n",
    "    # Parar a reprodução da música\n",
    "    py.mixer.music.stop()\n",
    "    \n",
    "tocar_mp3(\"music.mp3\")"
   ]
  },
  {
   "cell_type": "code",
   "execution_count": 22,
   "id": "d699879e",
   "metadata": {},
   "outputs": [],
   "source": [
    "from time import sleep\n",
    "import pygame as py\n",
    "\n",
    "def tocar_mp3(caminho):\n",
    "    \n",
    "    py.init()\n",
    "    py.mixer.init()\n",
    "    py.mixer.music.load(caminho)\n",
    "    py.mixer.music.play()\n",
    "        \n",
    "tocar_mp3(\"music.mp3\")"
   ]
  },
  {
   "cell_type": "code",
   "execution_count": 3,
   "id": "bd581221",
   "metadata": {},
   "outputs": [],
   "source": [
    "py.mixer.music.stop()"
   ]
  },
  {
   "cell_type": "code",
   "execution_count": 4,
   "id": "589c9792",
   "metadata": {},
   "outputs": [],
   "source": [
    "import tkinter as tk\n",
    "from tkinter import messagebox\n",
    "\n",
    "def exibir_popup():\n",
    "    janela = tk.Tk()\n",
    "    \n",
    "    # Função para lidar com o botão \"OK\"\n",
    "    def obter_dados():\n",
    "        texto = campo.get()\n",
    "        messagebox.showinfo(\"Mensagem\", \"Texto digitado: \" + texto)\n",
    "        janela.destroy()\n",
    "    \n",
    "    # Criar o campo de entrada e o botão \"OK\"\n",
    "    campo = tk.Entry(janela)\n",
    "    campo.pack()\n",
    "    \n",
    "    botao = tk.Button(janela, text=\"OK\", command=obter_dados)\n",
    "    botao.pack()\n",
    "    \n",
    "    # Exibir o popup\n",
    "    janela.mainloop()\n",
    "\n",
    "# Chamar a função para exibir o popup\n",
    "exibir_popup()"
   ]
  },
  {
   "cell_type": "code",
   "execution_count": null,
   "id": "6ad2b691",
   "metadata": {},
   "outputs": [],
   "source": []
  }
 ],
 "metadata": {
  "kernelspec": {
   "display_name": "Python 3 (ipykernel)",
   "language": "python",
   "name": "python3"
  },
  "language_info": {
   "codemirror_mode": {
    "name": "ipython",
    "version": 3
   },
   "file_extension": ".py",
   "mimetype": "text/x-python",
   "name": "python",
   "nbconvert_exporter": "python",
   "pygments_lexer": "ipython3",
   "version": "3.10.9"
  }
 },
 "nbformat": 4,
 "nbformat_minor": 5
}
